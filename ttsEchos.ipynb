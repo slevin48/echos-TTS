{
 "cells": [
  {
   "cell_type": "markdown",
   "metadata": {},
   "source": [
    "# Text To Speech Echos\n",
    "\n",
    "gTTS \n",
    "* https://www.geeksforgeeks.org/convert-text-speech-python/ \n",
    "* https://towardsdatascience.com/how-to-get-started-with-google-text-to-speech-using-python-485e43d1d544\n",
    "* https://discuss.streamlit.io/t/using-streamlit-for-an-stt-tts-model-demo/824"
   ]
  },
  {
   "cell_type": "markdown",
   "metadata": {},
   "source": [
    "rss:\n",
    "https://syndication.lesechos.fr/rss/rss_tech_medias.xml"
   ]
  },
  {
   "cell_type": "code",
   "execution_count": 14,
   "metadata": {},
   "outputs": [
    {
     "data": {
      "text/plain": [
       "<Response [200]>"
      ]
     },
     "execution_count": 14,
     "metadata": {},
     "output_type": "execute_result"
    }
   ],
   "source": [
    "import requests\n",
    "from secrets import *\n",
    "r = requests.get('https://www.lesechos.fr/', auth=(user, pwd))\n",
    "r"
   ]
  },
  {
   "cell_type": "code",
   "execution_count": 15,
   "metadata": {},
   "outputs": [
    {
     "data": {
      "text/plain": [
       "<Response [200]>"
      ]
     },
     "execution_count": 15,
     "metadata": {},
     "output_type": "execute_result"
    }
   ],
   "source": [
    "url1= \"https://www.lesechos.fr/tech-medias/medias/0700466410930-hollywood-martin-scorsese-devrait-realiser-le-premier-film-entierement-finance-en-nft-2445149.php\"\n",
    "r1 = requests.get(url1, auth=(user, pwd))\n",
    "r1"
   ]
  },
  {
   "cell_type": "code",
   "execution_count": 18,
   "metadata": {},
   "outputs": [],
   "source": [
    "with open(\"article1.html\",\"wb\") as f:\n",
    "    f.write(r1.content)"
   ]
  },
  {
   "cell_type": "code",
   "execution_count": 1,
   "metadata": {},
   "outputs": [],
   "source": [
    "import urllib.request as urllib2\n",
    "from bs4 import BeautifulSoup"
   ]
  },
  {
   "cell_type": "code",
   "execution_count": 2,
   "metadata": {},
   "outputs": [],
   "source": [
    "def get_echos_title(article):\n",
    "    # \"https://www.lesechos.fr/\"\n",
    "    f = urllib2.urlopen(article)\n",
    "    res = f.read()\n",
    "    soup = BeautifulSoup(res, 'html.parser')\n",
    "    title = soup.find(\"h1\",class_= \"sc-AxirZ sc-1ohdft1-0 leQiFa\").text\n",
    "    return title"
   ]
  },
  {
   "cell_type": "code",
   "execution_count": 3,
   "metadata": {},
   "outputs": [],
   "source": [
    "def get_echos_articles():\n",
    "    # \"https://www.lesechos.fr/\"\n",
    "    f = urllib2.urlopen(\"https://www.lesechos.fr/\")\n",
    "    res = f.read()\n",
    "    soup = BeautifulSoup(res, 'html.parser')\n",
    "    articles = [i.text for i in soup.find_all(\"h3\")]\n",
    "    return articles"
   ]
  },
  {
   "cell_type": "code",
   "execution_count": 4,
   "metadata": {},
   "outputs": [
    {
     "data": {
      "text/plain": [
       "'Présidentielle 2022\\xa0: Valérie Pécresse adoubée par les adhérents LR'"
      ]
     },
     "execution_count": 4,
     "metadata": {},
     "output_type": "execute_result"
    }
   ],
   "source": [
    "articles = get_echos_articles()\n",
    "articles[0]"
   ]
  },
  {
   "cell_type": "code",
   "execution_count": 2,
   "metadata": {},
   "outputs": [],
   "source": [
    "f = urllib2.urlopen(\"https://www.lesechos.fr/\")\n",
    "res = f.read()\n",
    "soup = BeautifulSoup(res, 'html.parser')"
   ]
  },
  {
   "cell_type": "code",
   "execution_count": 3,
   "metadata": {},
   "outputs": [
    {
     "data": {
      "text/plain": [
       "'Présidentielle 2022\\xa0: Valérie Pécresse adoubée par les adhérents LR'"
      ]
     },
     "execution_count": 3,
     "metadata": {},
     "output_type": "execute_result"
    }
   ],
   "source": [
    "# Main page\n",
    "# soup.find(\"h3\",class_= \"sc-AxirZ sc-1ohdft1-0 enLViw sc-4cuy4z-0 ldHWVK\")\n",
    "soup.h3.text"
   ]
  },
  {
   "cell_type": "code",
   "execution_count": 5,
   "metadata": {},
   "outputs": [
    {
     "data": {
      "text/plain": [
       "<a aria-current=\"page\" class=\"sc-1560xb1-0 fefOcI sc-ztp7xd-0 TIMXI active\" href=\"/\">À la une</a>"
      ]
     },
     "execution_count": 5,
     "metadata": {},
     "output_type": "execute_result"
    }
   ],
   "source": [
    "soup.find_all(\"a\",class_= \"sc-1560xb1-0\")[0]"
   ]
  },
  {
   "cell_type": "code",
   "execution_count": 6,
   "metadata": {},
   "outputs": [
    {
     "data": {
      "text/plain": [
       "'/elections/presidentielle/presidentielle-2022-valerie-pecresse-adoubee-par-les-adherents-lr-1369683'"
      ]
     },
     "execution_count": 6,
     "metadata": {},
     "output_type": "execute_result"
    }
   ],
   "source": [
    "links = soup.find_all(\"a\",class_= \"sc-1560xb1-0 fefOcI sc-2xhzwz-0 cGgeyg\")\n",
    "links[0]['href']"
   ]
  },
  {
   "cell_type": "code",
   "execution_count": 7,
   "metadata": {},
   "outputs": [],
   "source": [
    "list = soup.find_all(\"a\",class_= \"sc-1560xb1-0 fefOcI sc-2xhzwz-0 cGgeyg\")\n",
    "articles = [i['title'] for i in list]\n",
    "links = [i['href'] for i in list]"
   ]
  },
  {
   "cell_type": "code",
   "execution_count": 8,
   "metadata": {},
   "outputs": [],
   "source": [
    "# dictionary of lists  \n",
    "dict = {'articles': articles, 'links': links}  "
   ]
  },
  {
   "cell_type": "code",
   "execution_count": 9,
   "metadata": {},
   "outputs": [
    {
     "data": {
      "text/html": [
       "<div>\n",
       "<style scoped>\n",
       "    .dataframe tbody tr th:only-of-type {\n",
       "        vertical-align: middle;\n",
       "    }\n",
       "\n",
       "    .dataframe tbody tr th {\n",
       "        vertical-align: top;\n",
       "    }\n",
       "\n",
       "    .dataframe thead th {\n",
       "        text-align: right;\n",
       "    }\n",
       "</style>\n",
       "<table border=\"1\" class=\"dataframe\">\n",
       "  <thead>\n",
       "    <tr style=\"text-align: right;\">\n",
       "      <th></th>\n",
       "      <th>articles</th>\n",
       "      <th>links</th>\n",
       "    </tr>\n",
       "  </thead>\n",
       "  <tbody>\n",
       "    <tr>\n",
       "      <th>0</th>\n",
       "      <td>Présidentielle 2022 : Valérie Pécresse adoubée...</td>\n",
       "      <td>/elections/presidentielle/presidentielle-2022-...</td>\n",
       "    </tr>\n",
       "    <tr>\n",
       "      <th>1</th>\n",
       "      <td>Comment Eric est devenu Zemmour</td>\n",
       "      <td>/idees-debats/editos-analyses/comment-eric-est...</td>\n",
       "    </tr>\n",
       "    <tr>\n",
       "      <th>2</th>\n",
       "      <td>On sait maintenant faire face à Omicron</td>\n",
       "      <td>/idees-debats/editos-analyses/on-sait-maintena...</td>\n",
       "    </tr>\n",
       "    <tr>\n",
       "      <th>3</th>\n",
       "      <td>Pécresse, la remontée de la dame en rouge</td>\n",
       "      <td>/elections/presidentielle/pecresse-la-remontee...</td>\n",
       "    </tr>\n",
       "    <tr>\n",
       "      <th>4</th>\n",
       "      <td>Comment notre humeur pèse sur la présidentielle</td>\n",
       "      <td>/idees-debats/editos-analyses/comment-notre-hu...</td>\n",
       "    </tr>\n",
       "  </tbody>\n",
       "</table>\n",
       "</div>"
      ],
      "text/plain": [
       "                                            articles  \\\n",
       "0  Présidentielle 2022 : Valérie Pécresse adoubée...   \n",
       "1                    Comment Eric est devenu Zemmour   \n",
       "2            On sait maintenant faire face à Omicron   \n",
       "3          Pécresse, la remontée de la dame en rouge   \n",
       "4    Comment notre humeur pèse sur la présidentielle   \n",
       "\n",
       "                                               links  \n",
       "0  /elections/presidentielle/presidentielle-2022-...  \n",
       "1  /idees-debats/editos-analyses/comment-eric-est...  \n",
       "2  /idees-debats/editos-analyses/on-sait-maintena...  \n",
       "3  /elections/presidentielle/pecresse-la-remontee...  \n",
       "4  /idees-debats/editos-analyses/comment-notre-hu...  "
      ]
     },
     "execution_count": 9,
     "metadata": {},
     "output_type": "execute_result"
    }
   ],
   "source": [
    "import pandas as pd\n",
    "# df = pd.DataFrame(list(zip(articles, links)),columns = [\"articles\",\"links\"])\n",
    "df = pd.DataFrame(dict)\n",
    "df.head()"
   ]
  },
  {
   "cell_type": "code",
   "execution_count": 120,
   "metadata": {},
   "outputs": [
    {
     "data": {
      "text/plain": [
       "62"
      ]
     },
     "execution_count": 120,
     "metadata": {},
     "output_type": "execute_result"
    }
   ],
   "source": [
    "len(df)\n",
    "# [i for i in range(len(df))]"
   ]
  },
  {
   "cell_type": "code",
   "execution_count": 127,
   "metadata": {},
   "outputs": [
    {
     "data": {
      "text/html": [
       "<div>\n",
       "<style scoped>\n",
       "    .dataframe tbody tr th:only-of-type {\n",
       "        vertical-align: middle;\n",
       "    }\n",
       "\n",
       "    .dataframe tbody tr th {\n",
       "        vertical-align: top;\n",
       "    }\n",
       "\n",
       "    .dataframe thead th {\n",
       "        text-align: right;\n",
       "    }\n",
       "</style>\n",
       "<table border=\"1\" class=\"dataframe\">\n",
       "  <thead>\n",
       "    <tr style=\"text-align: right;\">\n",
       "      <th></th>\n",
       "      <th>articles</th>\n",
       "      <th>links</th>\n",
       "    </tr>\n",
       "  </thead>\n",
       "  <tbody>\n",
       "    <tr>\n",
       "      <th>61</th>\n",
       "      <td>L'économie et ses possibles</td>\n",
       "      <td>/idees-debats/livres/leconomie-et-ses-possible...</td>\n",
       "    </tr>\n",
       "  </tbody>\n",
       "</table>\n",
       "</div>"
      ],
      "text/plain": [
       "                       articles  \\\n",
       "61  L'économie et ses possibles   \n",
       "\n",
       "                                                links  \n",
       "61  /idees-debats/livres/leconomie-et-ses-possible...  "
      ]
     },
     "execution_count": 127,
     "metadata": {},
     "output_type": "execute_result"
    }
   ],
   "source": [
    "df.loc[[61]]"
   ]
  },
  {
   "cell_type": "code",
   "execution_count": 108,
   "metadata": {},
   "outputs": [
    {
     "data": {
      "text/html": [
       "<div>\n",
       "<style scoped>\n",
       "    .dataframe tbody tr th:only-of-type {\n",
       "        vertical-align: middle;\n",
       "    }\n",
       "\n",
       "    .dataframe tbody tr th {\n",
       "        vertical-align: top;\n",
       "    }\n",
       "\n",
       "    .dataframe thead th {\n",
       "        text-align: right;\n",
       "    }\n",
       "</style>\n",
       "<table border=\"1\" class=\"dataframe\">\n",
       "  <thead>\n",
       "    <tr style=\"text-align: right;\">\n",
       "      <th></th>\n",
       "      <th>articles</th>\n",
       "      <th>links</th>\n",
       "    </tr>\n",
       "  </thead>\n",
       "  <tbody>\n",
       "    <tr>\n",
       "      <th>0</th>\n",
       "      <td>Les supporters de Donald Trump envahissent le ...</td>\n",
       "      <td>/monde/etats-unis/les-supporters-de-donald-tru...</td>\n",
       "    </tr>\n",
       "    <tr>\n",
       "      <th>14</th>\n",
       "      <td>Les supporters de Donald Trump envahissent le ...</td>\n",
       "      <td>/monde/etats-unis/les-supporters-de-donald-tru...</td>\n",
       "    </tr>\n",
       "  </tbody>\n",
       "</table>\n",
       "</div>"
      ],
      "text/plain": [
       "                                             articles  \\\n",
       "0   Les supporters de Donald Trump envahissent le ...   \n",
       "14  Les supporters de Donald Trump envahissent le ...   \n",
       "\n",
       "                                                links  \n",
       "0   /monde/etats-unis/les-supporters-de-donald-tru...  \n",
       "14  /monde/etats-unis/les-supporters-de-donald-tru...  "
      ]
     },
     "execution_count": 108,
     "metadata": {},
     "output_type": "execute_result"
    }
   ],
   "source": [
    "df[df['articles']=='Les supporters de Donald Trump envahissent le Congrès américain']"
   ]
  },
  {
   "cell_type": "code",
   "execution_count": 111,
   "metadata": {},
   "outputs": [
    {
     "data": {
      "text/html": [
       "<div>\n",
       "<style scoped>\n",
       "    .dataframe tbody tr th:only-of-type {\n",
       "        vertical-align: middle;\n",
       "    }\n",
       "\n",
       "    .dataframe tbody tr th {\n",
       "        vertical-align: top;\n",
       "    }\n",
       "\n",
       "    .dataframe thead th {\n",
       "        text-align: right;\n",
       "    }\n",
       "</style>\n",
       "<table border=\"1\" class=\"dataframe\">\n",
       "  <thead>\n",
       "    <tr style=\"text-align: right;\">\n",
       "      <th></th>\n",
       "      <th>articles</th>\n",
       "      <th>links</th>\n",
       "    </tr>\n",
       "  </thead>\n",
       "  <tbody>\n",
       "    <tr>\n",
       "      <th>1</th>\n",
       "      <td>Comment la France se compare aux Européens sur...</td>\n",
       "      <td>/economie-france/budget-fiscalite/covid-commen...</td>\n",
       "    </tr>\n",
       "  </tbody>\n",
       "</table>\n",
       "</div>"
      ],
      "text/plain": [
       "                                            articles  \\\n",
       "1  Comment la France se compare aux Européens sur...   \n",
       "\n",
       "                                               links  \n",
       "1  /economie-france/budget-fiscalite/covid-commen...  "
      ]
     },
     "execution_count": 111,
     "metadata": {},
     "output_type": "execute_result"
    }
   ],
   "source": [
    "df.loc[[1]]"
   ]
  },
  {
   "cell_type": "code",
   "execution_count": 86,
   "metadata": {},
   "outputs": [
    {
     "data": {
      "text/plain": [
       "'Les supporters de Donald Trump envahissent le Congrès américain'"
      ]
     },
     "execution_count": 86,
     "metadata": {},
     "output_type": "execute_result"
    }
   ],
   "source": [
    "links[0]['title']"
   ]
  },
  {
   "cell_type": "code",
   "execution_count": 81,
   "metadata": {},
   "outputs": [
    {
     "data": {
      "text/plain": [
       "['/monde/etats-unis/les-supporters-de-donald-trump-ont-penetre-dans-le-congres-americain-1278784',\n",
       " '/economie-france/budget-fiscalite/covid-comment-la-france-se-compare-aux-europeens-sur-le-quoi-quil-en-coute-1278766',\n",
       " '/monde/enjeux-internationaux/en-direct-6-janvier-covid-le-point-sur-la-situation-en-france-et-dans-le-monde-1278446',\n",
       " '/monde/europe/covid-le-portugal-depasse-a-son-tour-par-lemballement-des-contagions-1278746',\n",
       " '/economie-france/conjoncture/covid-la-question-de-la-restructuration-de-la-dette-des-entreprises-va-se-poser-des-cette-annee-1278735',\n",
       " '/patrimoine/impots/impots-2021-les-six-changements-a-retenir-1278682',\n",
       " '/politique-societe/regions/covid-les-regions-veulent-pouvoir-acheter-des-vaccins-1278773',\n",
       " '/politique-societe/societe/covid-19-pourquoi-le-variant-britannique-inquiete-la-france-1278662',\n",
       " '/finance-marches/banque-assurances/washington-veut-forcer-les-banques-a-financer-les-armes-et-le-petrole-1278744',\n",
       " '/industrie-services/air-defense/maigre-moisson-pour-dassault-aviation-en-2020-1278763',\n",
       " '/idees-debats/editos-analyses/brexit-les-fausses-promesses-faites-aux-pecheurs-anglais-1278687',\n",
       " '/monde/afrique-moyen-orient/dix-ans-apres-le-debut-de-la-guerre-la-syrie-au-bord-de-la-ruine-1278428',\n",
       " '/economie-france/budget-fiscalite/vaccins-macron-et-le-chantier-escamote-de-la-reforme-de-letat-1278265',\n",
       " '/weekend/business-story/macron-le-pen-la-vraie-histoire-du-debat-presidentiel-de-2017-1278305',\n",
       " '/monde/etats-unis/les-supporters-de-donald-trump-ont-penetre-dans-le-congres-americain-1278784',\n",
       " '/idees-debats/editos-analyses/elections-made-in-usa-so-far-1278783',\n",
       " '/idees-debats/editos-analyses/au-dela-du-covid-1278775',\n",
       " '/industrie-services/tourisme-transport/tourisme-un-nouveau-patron-pour-le-futur-de-pierre-vacances-center-parcs-1278776',\n",
       " '/politique-societe/regions/covid-les-regions-veulent-pouvoir-acheter-des-vaccins-1278773',\n",
       " '/monde/etats-unis/la-proclamation-de-la-victoire-de-biden-retardee-par-les-demonstrations-de-force-de-trump-1278772',\n",
       " '/idees-debats/crible/michelin-message-arverne-1278771',\n",
       " '/idees-debats/crible/cotationipo-un-show-pour-la-cause-1278769',\n",
       " '/idees-debats/en-vue/raphael-warnock-sur-les-traces-de-martin-luther-king-1278767',\n",
       " '/economie-france/budget-fiscalite/covid-comment-la-france-se-compare-aux-europeens-sur-le-quoi-quil-en-coute-1278766',\n",
       " '/idees-debats/crible/politique-monetaire-taux-dinteret-faux-debats-et-vraie-question-1278764',\n",
       " '/industrie-services/air-defense/maigre-moisson-pour-dassault-aviation-en-2020-1278763',\n",
       " '/monde/europe/marie-pierre-vedrenne-il-nest-pas-prudent-de-donner-un-blanc-seing-a-la-chine-1278757',\n",
       " '/finance-marches/marches-financiers/etats-unis-la-perspective-dune-vague-bleue-pousse-les-taux-a-10-ans-au-dessus-des-1-1278755',\n",
       " '/pme-regions/nouvelle-aquitaine/briconord-veut-profiter-de-lengouement-des-francais-pour-le-bricolage-1278754',\n",
       " '/monde/europe/penurie-de-vaccin-berlin-tente-de-desamorcer-la-polemique-1278747',\n",
       " '/monde/europe/covid-le-portugal-depasse-a-son-tour-par-lemballement-des-contagions-1278746',\n",
       " '/finance-marches/banque-assurances/washington-veut-forcer-les-banques-a-financer-les-armes-et-le-petrole-1278744',\n",
       " '/monde/europe/le-parlement-europeen-bien-decide-a-passer-au-peigne-fin-laccord-avec-la-chine-1278743',\n",
       " '/tech-medias/hightech/samsung-riposte-dans-les-televiseurs-haut-de-gamme-1278737',\n",
       " '/economie-france/conjoncture/covid-la-question-de-la-restructuration-de-la-dette-des-entreprises-va-se-poser-des-cette-annee-1278735',\n",
       " '/industrie-services/conso-distribution/too-good-to-go-leve-25-millions-deuros-pour-convertir-le-monde-a-lanti-gaspillage-alimentaire-1278734',\n",
       " '/finance-marches/marches-financiers/la-bourse-de-shanghai-oublie-le-virus-et-caracole-au-plus-haut-depuis-2008-1278728',\n",
       " '/industrie-services/pharmacie-sante/quatre-choses-a-savoir-sur-le-coeur-artificiel-de-carmat-1278723',\n",
       " '/finance-marches/marches-financiers/bourse-londres-veut-attirer-davantage-de-candidats-a-la-cote-1278720',\n",
       " '/economie-france/social/covid-larrivee-du-vaccin-ravive-le-debat-sur-un-passeport-sanitaire-1278716',\n",
       " '/industrie-services/immobilier-btp/2021-une-nouvelle-ere-pour-limmobilier-de-bureau-1278711',\n",
       " '/weekend/livres-expositions/rodinarp-un-dialogue-en-direct-avec-lhistoire-de-lart-1278709',\n",
       " '/pme-regions/bretagne/le-courtier-en-assurances-breton-verlingue-sinstalle-au-portugal-1278706',\n",
       " '/industrie-services/automobile/le-plan-de-michelin-pour-localiser-en-france-des-activites-a-forte-valeur-ajoutee-1278697',\n",
       " '/industrie-services/air-defense/comment-spacex-et-elon-musk-sont-entres-au-pantheon-de-lespace-1278695',\n",
       " '/industrie-services/conso-distribution/au-bresil-carrefour-et-casino-critiques-sur-leur-approvisionnement-en-viande-1278696',\n",
       " '/tech-medias/hightech/linde-paie-le-prix-fort-des-pires-coupures-dinternet-au-monde-1278693',\n",
       " '/industrie-services/pharmacie-sante/pharmacie-alliance-strategique-entre-les-deux-geants-walgreens-et-americasourcebergen-1278690',\n",
       " '/idees-debats/editos-analyses/brexit-les-fausses-promesses-faites-aux-pecheurs-anglais-1278687',\n",
       " '/pme-regions/outre-mer/la-collecte-des-produits-en-fin-de-vie-a-le-vent-en-poupe-a-la-reunion-1278684',\n",
       " '/patrimoine/impots/impots-2021-les-six-changements-a-retenir-1278682',\n",
       " '/industrie-services/services-conseils/chantal-crousel-lune-des-galeristes-les-plus-reconnues-depuis-quarante-ans-1278680',\n",
       " '/industrie-services/tourisme-transport/fret-sncf-va-alleger-ses-effectifs-et-vendre-des-actifs-1278676',\n",
       " '/idees-debats/cercle/opinion-ce-que-la-victoire-de-biden-signifie-pour-leuro-1278673',\n",
       " '/industrie-services/air-defense/le-cnes-fete-ses-soixante-ans-en-pleine-revolution-spatiale-1278674',\n",
       " '/monde/etats-unis/etats-unis-5-choses-a-savoir-sur-raphael-warnock-qui-a-remporte-une-senatoriale-cruciale-en-georgie-1278666',\n",
       " '/politique-societe/societe/covid-19-pourquoi-le-variant-britannique-inquiete-la-france-1278662',\n",
       " '/tech-medias/hightech/les-ventes-de-televiseurs-portees-par-une-annee-de-confinements-dans-les-pays-developpes-1278665',\n",
       " '/pme-regions/ile-de-france/le-grand-palais-prend-racine-provisoirement-au-champs-de-mars-1278661',\n",
       " '/pme-regions/actualite-pme/apprentis-pourquoi-les-entreprises-hesitent-a-se-lancer-dans-une-formation-maison-1278659',\n",
       " '/idees-debats/editos-analyses/imagine-vivre-sans-covid-19-1278657',\n",
       " '/idees-debats/livres/leconomie-et-ses-possibles-1278656']"
      ]
     },
     "execution_count": 81,
     "metadata": {},
     "output_type": "execute_result"
    }
   ],
   "source": [
    "links = [i['href'] for i in soup.find_all(\"a\",class_= \"sc-1560xb1-0 fUqzcK sc-1ttlxdz-2 bxQRWI\")]\n",
    "links "
   ]
  },
  {
   "cell_type": "code",
   "execution_count": 72,
   "metadata": {},
   "outputs": [
    {
     "data": {
      "text/plain": [
       "['Les supporters de Donald Trump envahissent le Congrès américain',\n",
       " \"Comment la France se compare aux Européens sur le «quoi qu'il en coûte»\",\n",
       " 'EN DIRECT - Covid\\xa0: les remontées mécaniques ne rouvriront pas ce jeudi en France',\n",
       " \"Le Portugal dépassé à son tour par l'emballement des contagions\",\n",
       " 'La question de la restructuration de la dette des entreprises va se poser dès cette annéeSélection abonnés',\n",
       " 'Impôts 2021\\xa0: les six changements à retenirSélection abonnés',\n",
       " 'Covid\\xa0: les régions veulent pouvoir acheter des vaccins',\n",
       " 'Covid-19\\xa0: pourquoi le variant britannique inquiète la France\\xa0?Sélection abonnés',\n",
       " 'Washington veut forcer les banques à financer les armes et le pétroleSélection abonnés',\n",
       " 'Maigre moisson pour Dassault Aviation en 2020Sélection abonnés',\n",
       " 'Brexit\\xa0: les fausses promesses faites aux pêcheurs anglaisSélection abonnés',\n",
       " 'Dix ans après le début de la guerre, la Syrie au bord de la ruineSélection abonnés',\n",
       " \"Vaccins : Macron et le chantier escamoté de la réforme de l'EtatSélection abonnés\",\n",
       " 'La vraie histoire du débat Macron-Le Pen de 2017Sélection abonnés',\n",
       " \"Washington : une personne blessée par balle à l'intérieur du Capitole\",\n",
       " \"Invasion du Capitole\\xa0: des élus dénoncent une tentative de «\\xa0coup d'Etat\\xa0»\",\n",
       " 'Des coups de feu entendus au Congrès américain',\n",
       " 'Invasion du Capitole\\xa0: le maire de Washington impose un couvre-feu',\n",
       " \"Paris demande la libération du navire sud-coréen saisi par l'Iran\",\n",
       " \"Pourquoi l'Asie résiste si bien au CovidSélection abonnés\",\n",
       " \"L'ère des pandémies ne fait que commencerSélection abonnés\",\n",
       " 'Joe Biden doit franchir une dernière marche avant le pouvoirSélection abonnés',\n",
       " \"Guerre du camembert\\xa0: l'étiquette «\\xa0Fabriqué en Normandie\\xa0» bannie des rayons\",\n",
       " 'Covid\\xa0: records inquiétants de mortalité aux Etats-Unis et en Allemagne',\n",
       " 'Covid\\xa0: la polémique enfle sur la stratégie de vaccination du gouvernement',\n",
       " 'Les supporters de Donald Trump envahissent le Congrès américain',\n",
       " 'Elections made in USA : so far …',\n",
       " 'Au-delà du Covid',\n",
       " 'Tourisme\\xa0: un nouveau patron pour le futur de Pierre & Vacances Center Parcs',\n",
       " 'Covid\\xa0: les régions veulent pouvoir acheter des vaccins',\n",
       " 'La proclamation de la victoire de Biden retardée par les démonstrations de force de Trump',\n",
       " 'Michelin\\xa0: Message arverne',\n",
       " 'Cotation/IPO\\xa0: Un show pour la cause',\n",
       " 'Raphael Warnock\\xa0: sur les traces de Martin Luther King',\n",
       " \"Covid\\xa0: comment la France se compare aux Européens sur le «\\xa0quoi qu'il en coûte\\xa0»\",\n",
       " \"Politique monétaire / Taux d'intérêt : Faux débats et vraie question\",\n",
       " 'Maigre moisson pour Dassault Aviation en 2020Sélection abonnés',\n",
       " \"Marie-Pierre Védrenne\\xa0: «\\xa0Il n'est pas prudent de donner un blanc-seing à la Chine\\xa0»Sélection abonnés\",\n",
       " \"Etats-Unis\\xa0: La perspective d'une vague bleue pousse les taux à 10 ans au-dessus de 1\\xa0%Sélection abonnés\",\n",
       " \"Briconord veut profiter de l'engouement des Français pour le bricolageSélection abonnés\",\n",
       " 'Pénurie de vaccin\\xa0: Berlin tente de désamorcer la polémique',\n",
       " \"Covid\\xa0: le Portugal dépassé à son tour par l'emballement des contagions\",\n",
       " 'Washington veut forcer les banques à financer les armes et le pétroleSélection abonnés',\n",
       " \"Le Parlement européen bien décidé à passer au peigne fin l'accord avec la ChineSélection abonnés\",\n",
       " 'Samsung riposte dans les téléviseurs haut de gammeSélection abonnés',\n",
       " 'Covid\\xa0: la question de la restructuration de la dette des entreprises va se poser dès cette annéeSélection abonnés',\n",
       " \"Too Good To Go lève 25\\xa0millions d'euros pour convertir le monde à l'anti-gaspillage alimentaireSélection abonnés\",\n",
       " 'La Bourse chinoise oublie le virus et caracole au plus haut depuis 2008Sélection abonnés',\n",
       " 'Quatre choses à savoir sur le coeur artificiel de CarmatSélection abonnés',\n",
       " 'Bourse : Londres veut attirer davantage de candidats à la coteSélection abonnés',\n",
       " \"L'arrivée du vaccin ravive le débat sur un «\\xa0passeport sanitaire\\xa0»Sélection abonnés\",\n",
       " \"2021\\xa0: une nouvelle ère pour l'immobilier de bureau\",\n",
       " \"« Rodin/Arp », un dialogue en direct avec l'histoire de l'art\",\n",
       " \"Le courtier en assurances breton Verlingue s'installe au PortugalSélection abonnés\",\n",
       " 'Le plan de Michelin pour localiser en France des activités à forte valeur ajoutéeSélection abonnés',\n",
       " \"Comment SpaceX et Elon Musk sont entrés au panthéon de l'espaceSélection abonnés\",\n",
       " 'Au Brésil, Carrefour et Casino critiqués sur leur approvisionnement en viandeSélection abonnés',\n",
       " \"L'Inde paie le prix fort des pires coupures d'Internet au mondeSélection abonnés\",\n",
       " 'Pharmacie\\xa0: alliance anti-Amazon entre les géants Walgreens et AmerisourceBergenSélection abonnés',\n",
       " 'Brexit\\xa0: les fausses promesses faites aux pêcheurs anglaisSélection abonnés',\n",
       " 'La collecte des produits en fin de vie a le vent en poupe à La Réunion',\n",
       " 'Impôts 2021\\xa0: les six changements à retenirSélection abonnés',\n",
       " \"Chantal Crousel, l'une des galeristes les plus reconnues depuis quarante ans\",\n",
       " 'Fret SNCF va alléger ses effectifs et vendre des actifsSélection abonnés',\n",
       " \"Opinion | Ce que la victoire de Biden signifie pour l'euroSélection abonnés\",\n",
       " 'Le CNES fête ses soixante ans en pleine révolution spatiale',\n",
       " \"Etats-Unis\\xa0: 5 choses à savoir sur Raphael Warnock, vainqueur d'une sénatoriale cruciale en Géorgie\",\n",
       " 'Covid-19\\xa0: pourquoi le variant britannique inquiète la France\\xa0?Sélection abonnés',\n",
       " 'Les ventes de téléviseurs portées par une année de confinements dans les pays développésSélection abonnés',\n",
       " 'Le Grand Palais prend racine (provisoirement) au Champs-de-Mars',\n",
       " 'Apprentis\\xa0: pourquoi les entreprises hésitent à se lancer dans une formation maisonSélection abonnés',\n",
       " 'Imagine vivre sans Covid-19\\xa0!Sélection abonnés',\n",
       " \"L'économie et ses possibles\",\n",
       " 'Opinion | Il faut vacciner plus vite les Français !Sélection abonnés',\n",
       " 'La Bourse a misé tout au long de la séance sur une victoire des démocrates au Sénat',\n",
       " 'Saint-Gobain annonce un excellent quatrième trimestre, vers une marge record',\n",
       " 'Les ultraviolets d’UV Germi détruisent à plus de 99% le Covid-19 dans l’air',\n",
       " 'Covid\\xa0: la campagne de vaccination en France',\n",
       " 'Brexit\\xa0: Quels enjeux pour le secteur financier\\xa0?Sélection abonnés',\n",
       " 'Ces affaires qui empoisonnent Sarkozy',\n",
       " '«\\xa0Customer Success Manager\\xa0: je suis la voix des clients au sein de mon entreprise\\xa0!\\xa0»',\n",
       " '«\\xa0Random coffees\\xa0» : des cafés aléatoires pour (enfin) rencontrer des collègues de votre entreprise',\n",
       " 'Help\\xa0! Quand les étudiants viennent au secours des entreprises',\n",
       " \"Rendre l'offre plus accessible et ressouder les équipes\",\n",
       " 'Activité partielle de longue durée : le confinement ne compte pas !',\n",
       " 'La cotisation AGS est maintenue au même taux en 2021',\n",
       " \"Comment appliquer la stratégie océan bleu dans le monde d'après-pandémieSélection abonnés\",\n",
       " \"Executive MBA\\xa0: une formation pour l'écoute de soi et du mondeSélection abonnés\",\n",
       " \"Nominations chez WarnerMedia, Reworld Media, Edenred et à l'IGNSélection abonnés\",\n",
       " 'Le bien de la semaine\\xa0: une grande maison avec jardin à 5\\xa0minutes de Barbizon (Seine-et-Marne)',\n",
       " \"Immobilier\\xa0: face au Covid, le marché tient le choc, mais commence à s'essoufflerSélection abonnés\",\n",
       " \"Le bien de la semaine\\xa0: une maison normande de 7 pièces proche du centre d'Honfleur\",\n",
       " 'La vraie histoire du débat Macron-Le Pen de 2017Sélection abonnés',\n",
       " 'Les 7 ingrédients étonnants des vaccinsSélection abonnés',\n",
       " \"10 Doodles qui ont marqué l'histoire de Google\",\n",
       " 'Le plan de Michelin pour localiser en France des activités à forte valeur ajoutéeSélection abonnés',\n",
       " 'Michelin lance une nouvelle restructuration et supprime 2.300 postes en FranceSélection abonnés',\n",
       " \"Cdiscount se lance dans la vente de voitures d'occasion avec ArvalSélection abonnés\",\n",
       " 'Tourisme\\xa0: un nouveau patron pour le futur de Pierre & Vacances Center Parcs',\n",
       " 'Fret SNCF va alléger ses effectifs et vendre des actifsSélection abonnés',\n",
       " 'Quelle est la compagnie aérienne la plus sûre\\xa0?',\n",
       " 'Maigre moisson pour Dassault Aviation en 2020Sélection abonnés',\n",
       " \"Comment SpaceX et Elon Musk sont entrés au panthéon de l'espaceSélection abonnés\",\n",
       " 'Le CNES fête ses soixante ans en pleine révolution spatiale',\n",
       " \"Too Good To Go lève 25\\xa0millions d'euros pour convertir le monde à l'anti-gaspillage alimentaireSélection abonnés\",\n",
       " 'Au Brésil, Carrefour et Casino critiqués sur leur approvisionnement en viandeSélection abonnés',\n",
       " 'Ferrero veut croquer le marché du petit-déjeuner avec un nouveau KinderSélection abonnés',\n",
       " \"Etats-Unis\\xa0: La perspective d'une vague bleue pousse les taux à 10 ans au-dessus de 1\\xa0%Sélection abonnés\",\n",
       " 'La Bourse chinoise oublie le virus et caracole au plus haut depuis 2008Sélection abonnés',\n",
       " 'Bourse : Londres veut attirer davantage de candidats à la coteSélection abonnés',\n",
       " 'Washington veut forcer les banques à financer les armes et le pétroleSélection abonnés',\n",
       " \"Amazon est loin d'avoir rendu les armes dans les services financiersSélection abonnés\",\n",
       " \"La Fédération française de l'assurance tente de surmonter ses divisionsSélection abonnés\",\n",
       " 'Samsung riposte dans les téléviseurs haut de gammeSélection abonnés',\n",
       " \"L'Inde paie le prix fort des pires coupures d'Internet au mondeSélection abonnés\",\n",
       " 'Les ventes de téléviseurs portées par une année de confinements dans les pays développésSélection abonnés',\n",
       " 'La politique dans un frigo à -70 degrésSélection abonnés',\n",
       " 'Un brouillard sans précédent à 15 mois de la présidentielle de 2022Sélection abonnés',\n",
       " \"L'ex-ministre de la Santé Agnès Buzyn rejoint l'OMS\",\n",
       " \"Marie-Pierre Védrenne\\xa0: «\\xa0Il n'est pas prudent de donner un blanc-seing à la Chine\\xa0»Sélection abonnés\",\n",
       " 'Pénurie de vaccin\\xa0: Berlin tente de désamorcer la polémique',\n",
       " \"Covid\\xa0: le Portugal dépassé à son tour par l'emballement des contagions\",\n",
       " 'Les supporters de Donald Trump envahissent le Congrès américain',\n",
       " 'La proclamation de la victoire de Biden retardée par les démonstrations de force de Trump',\n",
       " \"Etats-Unis\\xa0: 5 choses à savoir sur Raphael Warnock, vainqueur d'une sénatoriale cruciale en Géorgie\",\n",
       " \"L'affaire Julian Assange en cinq questions\",\n",
       " 'Vaccination anti-Covid\\xa0: le Japon prend son tempsSélection abonnés',\n",
       " \"Avec un président «\\xa0antivax\\xa0», la campagne de vaccination s'annonce chaotique au BrésilSélection abonnés\",\n",
       " 'Fêtes gourmandes à domicile',\n",
       " 'Gastronomie : comment le coulant au chocolat a conquis le monde',\n",
       " 'Comment la cuisine française est devenue gastronomieSélection abonnés',\n",
       " 'Brexit\\xa0: les fausses promesses faites aux pêcheurs anglaisSélection abonnés',\n",
       " \"Vaccins : Macron et le chantier escamoté de la réforme de l'EtatSélection abonnés\",\n",
       " \"Opinion | Vacciner plus vite pour accélérer la reprise de l'économieSélection abonnés\",\n",
       " \"Covid : comment la France se compare aux Européens sur le « quoi qu'il en coûte »\",\n",
       " 'La question de la restructuration de la dette des entreprises va se poser dès cette annéeSélection abonnés',\n",
       " \"L'arrivée du vaccin ravive le débat sur un «\\xa0passeport sanitaire\\xa0»Sélection abonnés\",\n",
       " 'Covid\\xa0: les régions veulent pouvoir acheter des vaccins',\n",
       " 'Covid\\xa0: les soignants réticents, une inconnue de la campagne de vaccinationSélection abonnés',\n",
       " 'Covid\\xa0: la campagne de vaccination en France',\n",
       " 'Election américaine : vers une victoire totale pour les démocrates',\n",
       " 'La proclamation de la victoire de Biden retardée par les démonstrations de force de Trump',\n",
       " \"Le Parlement européen bien décidé à passer au peigne fin l'accord avec la ChineSélection abonnés\",\n",
       " 'Samsung riposte dans les téléviseurs haut de gammeSélection abonnés',\n",
       " 'Les ventes de téléviseurs portées par une année de confinements dans les pays développésSélection abonnés',\n",
       " \"Laure de la Raudière choisie par l'Elysée pour présider l'Arcep\",\n",
       " \"Covid: l'Europe se dote d'une nouvelle arme avec le vaccin de ModernaSélection abonnés\",\n",
       " 'Le plan de Michelin pour localiser en France des activités à forte valeur ajoutéeSélection abonnés',\n",
       " 'Injections espacées, doses réduites… Face au manque de vaccins, les Etats cherchent la paradeSélection abonnés',\n",
       " \"Etats-Unis : la perspective d'une vague bleue pousse les taux à 10 ans au-dessus de 1%Sélection abonnés\",\n",
       " 'La Bourse chinoise oublie le virus et caracole au plus haut depuis 2008Sélection abonnés',\n",
       " 'Imbroglio à Wall Street autour de la cotation des entreprises chinoises',\n",
       " 'Apprentis\\xa0: pourquoi les entreprises hésitent à se lancer dans une formation maisonSélection abonnés',\n",
       " 'Retour à la case départ pour le PSE\\xa0des saumons Delpierre',\n",
       " \"Le courtier en assurances breton Verlingue s'installe au PortugalSélection abonnés\",\n",
       " 'Impôts 2021\\xa0: les six changements à retenirSélection abonnés',\n",
       " \"Immobilier\\xa0: face au Covid, le marché tient le choc, mais commence à s'essoufflerSélection abonnés\",\n",
       " 'Le bien de la semaine\\xa0: une grande maison avec jardin à 5\\xa0minutes de Barbizon (Seine-et-Marne)',\n",
       " 'La vraie histoire du débat Macron-Le Pen de 2017Sélection abonnés',\n",
       " 'Les 7 ingrédients étonnants des vaccinsSélection abonnés',\n",
       " 'Rencontre à livre ouvert avec Marie NDiaye']"
      ]
     },
     "execution_count": 72,
     "metadata": {},
     "output_type": "execute_result"
    }
   ],
   "source": [
    "[i.text for i in soup.find_all(\"h3\")]"
   ]
  },
  {
   "cell_type": "code",
   "execution_count": 56,
   "metadata": {},
   "outputs": [],
   "source": [
    "f = urllib2.urlopen(\"https://www.lesechos.fr/\")\n",
    "res = f.read()\n",
    "soup = BeautifulSoup(res, 'html.parser')\n",
    "articles = [i.text for i in soup.find_all(\"article\")]\n"
   ]
  },
  {
   "cell_type": "code",
   "execution_count": 10,
   "metadata": {},
   "outputs": [
    {
     "data": {
      "text/plain": [
       "'InfographieMis à jour il y a 9 minutesPrésidentielle 2022\\xa0: Valérie Pécresse adoubée par les adhérents LRPortraitValérie Pécresse, un «\\xa0rouleau compresseur\\xa0» qui revient de loinPrésidentielle'"
      ]
     },
     "execution_count": 10,
     "metadata": {},
     "output_type": "execute_result"
    }
   ],
   "source": [
    "soup.find(\"article\").text"
   ]
  },
  {
   "cell_type": "code",
   "execution_count": 11,
   "metadata": {},
   "outputs": [
    {
     "data": {
      "text/plain": [
       "['Infographie',\n",
       " 'Mis à jour il y a 9 minutesPrésidentielle 2022\\xa0: Valérie Pécresse adoubée par les adhérents LRPortraitValérie Pécresse, un «\\xa0rouleau compresseur\\xa0» qui revient de loinPrésidentielle']"
      ]
     },
     "execution_count": 11,
     "metadata": {},
     "output_type": "execute_result"
    }
   ],
   "source": [
    "[i.text for i in soup.find(\"article\")]"
   ]
  },
  {
   "cell_type": "code",
   "execution_count": 12,
   "metadata": {},
   "outputs": [],
   "source": [
    "article = \"https://www.lesechos.fr/industrie-services/air-defense/maigre-moisson-pour-dassault-aviation-en-2020-1278763\""
   ]
  },
  {
   "cell_type": "code",
   "execution_count": 13,
   "metadata": {},
   "outputs": [],
   "source": [
    "f = urllib2.urlopen(article)\n",
    "res = f.read()\n",
    "soup = BeautifulSoup(res, 'html.parser')"
   ]
  },
  {
   "cell_type": "code",
   "execution_count": 14,
   "metadata": {},
   "outputs": [
    {
     "data": {
      "text/plain": [
       "\"L'avionneur français n'échappe pas à la crise sanitaire. Les livraisons de Rafale et de Falcon ont fortement baissé en 2020, ainsi que les prises de commandes.\""
      ]
     },
     "execution_count": 14,
     "metadata": {},
     "output_type": "execute_result"
    }
   ],
   "source": [
    "abstract = soup.find(\"p\",class_= \"sc-14kwckt-6 sc-1ohdft1-0 hqULrA bISRZO\").text\n",
    "abstract"
   ]
  },
  {
   "cell_type": "code",
   "execution_count": 16,
   "metadata": {},
   "outputs": [
    {
     "data": {
      "text/plain": [
       "'Maigre moisson pour Dassault Aviation en 2020Contenu réservé aux abonnés'"
      ]
     },
     "execution_count": 16,
     "metadata": {},
     "output_type": "execute_result"
    }
   ],
   "source": [
    "# Title\n",
    "# sc-AxirZ sc-1ohdft1-0 leQiFa\n",
    "title = soup.find(\"h1\").text\n",
    "title"
   ]
  },
  {
   "cell_type": "code",
   "execution_count": 10,
   "metadata": {},
   "outputs": [],
   "source": [
    "def tts(content):\n",
    "    # to speech conversion \n",
    "    from gtts import gTTS \n",
    "  \n",
    "# This module is imported so that we can  \n",
    "# play the converted audio \n",
    "import os \n",
    "  \n",
    "# The text that you want to convert to audio \n",
    "# mytext = 'Welcome to geeksforgeeks!'\n",
    "  \n",
    "# Language in which you want to convert \n",
    "language = 'fr'\n",
    "  \n",
    "# Passing the text and language to the engine,  \n",
    "# here we have marked slow=False. Which tells  \n",
    "# the module that the converted audio should  \n",
    "# have a high speed \n",
    "myobj = gTTS(text=title, lang=language, slow=False) \n",
    "  \n",
    "# Saving the converted audio in a mp3 file named \n",
    "# welcome  \n",
    "myobj.save(\"title.mp3\") "
   ]
  },
  {
   "cell_type": "code",
   "execution_count": 14,
   "metadata": {},
   "outputs": [
    {
     "data": {
      "text/plain": [
       "0"
      ]
     },
     "execution_count": 14,
     "metadata": {},
     "output_type": "execute_result"
    }
   ],
   "source": [
    "# Playing the converted file \n",
    "os.system(\"title.mp3\") "
   ]
  },
  {
   "cell_type": "code",
   "execution_count": 17,
   "metadata": {},
   "outputs": [
    {
     "data": {
      "text/plain": [
       "0"
      ]
     },
     "execution_count": 17,
     "metadata": {},
     "output_type": "execute_result"
    }
   ],
   "source": [
    "myobj = gTTS(text=abstract, lang=language, slow=False) \n",
    "  \n",
    "# Saving the converted audio in a mp3 file named \n",
    "# welcome  \n",
    "myobj.save(\"abstract.mp3\") \n",
    "\n",
    "os.system(\"abstract.mp3\") "
   ]
  },
  {
   "cell_type": "code",
   "execution_count": 22,
   "metadata": {},
   "outputs": [
    {
     "data": {
      "text/html": [
       "<embed src=\"abstract.mp3\" loop=\"false\" autostart=\"false\">"
      ],
      "text/plain": [
       "<IPython.core.display.HTML object>"
      ]
     },
     "execution_count": 22,
     "metadata": {},
     "output_type": "execute_result"
    }
   ],
   "source": [
    "from IPython.display import HTML\n",
    "HTML('<embed src=\"abstract.mp3\" loop=\"false\" autostart=\"false\">')"
   ]
  },
  {
   "cell_type": "code",
   "execution_count": 24,
   "metadata": {},
   "outputs": [
    {
     "data": {
      "text/html": [
       "\n",
       "                <audio  controls=\"controls\" >\n",
       "                    <source src=\"data:audio/mpeg;base64,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\" type=\"audio/mpeg\" />\n",
       "                    Your browser does not support the audio element.\n",
       "                </audio>\n",
       "              "
      ],
      "text/plain": [
       "<IPython.lib.display.Audio object>"
      ]
     },
     "execution_count": 24,
     "metadata": {},
     "output_type": "execute_result"
    }
   ],
   "source": [
    "from IPython.display import *\n",
    "Audio(\"abstract.mp3\", autoplay=False)"
   ]
  },
  {
   "cell_type": "code",
   "execution_count": 26,
   "metadata": {},
   "outputs": [],
   "source": [
    "from IPython.display import HTML\n",
    "def show_audio_with_controls(file_path):\n",
    "    display(HTML(\"<audio controls><source src={} type='audio/mpeg'></audio>\".format(file_path)))"
   ]
  },
  {
   "cell_type": "code",
   "execution_count": 34,
   "metadata": {},
   "outputs": [
    {
     "data": {
      "text/html": [
       "<audio controls><source src='/title.mp3' type='audio/mpeg'></audio>"
      ],
      "text/plain": [
       "<IPython.core.display.HTML object>"
      ]
     },
     "execution_count": 34,
     "metadata": {},
     "output_type": "execute_result"
    }
   ],
   "source": [
    "HTML(\"<audio controls><source src='/title.mp3' type='audio/mpeg'></audio>\")"
   ]
  },
  {
   "cell_type": "code",
   "execution_count": 30,
   "metadata": {},
   "outputs": [
    {
     "ename": "TypeError",
     "evalue": "'module' object is not callable",
     "output_type": "error",
     "traceback": [
      "\u001b[1;31m---------------------------------------------------------------------------\u001b[0m",
      "\u001b[1;31mTypeError\u001b[0m                                 Traceback (most recent call last)",
      "\u001b[1;32m<ipython-input-30-6416fc6284e9>\u001b[0m in \u001b[0;36m<module>\u001b[1;34m\u001b[0m\n\u001b[1;32m----> 1\u001b[1;33m \u001b[0mshow_audio_with_controls\u001b[0m\u001b[1;33m(\u001b[0m\u001b[1;34m'abstract.mp3'\u001b[0m\u001b[1;33m)\u001b[0m\u001b[1;33m\u001b[0m\u001b[1;33m\u001b[0m\u001b[0m\n\u001b[0m",
      "\u001b[1;32m<ipython-input-26-acc4787c8d5a>\u001b[0m in \u001b[0;36mshow_audio_with_controls\u001b[1;34m(file_path)\u001b[0m\n\u001b[0;32m      1\u001b[0m \u001b[1;32mfrom\u001b[0m \u001b[0mIPython\u001b[0m\u001b[1;33m.\u001b[0m\u001b[0mdisplay\u001b[0m \u001b[1;32mimport\u001b[0m \u001b[0mHTML\u001b[0m\u001b[1;33m\u001b[0m\u001b[1;33m\u001b[0m\u001b[0m\n\u001b[0;32m      2\u001b[0m \u001b[1;32mdef\u001b[0m \u001b[0mshow_audio_with_controls\u001b[0m\u001b[1;33m(\u001b[0m\u001b[0mfile_path\u001b[0m\u001b[1;33m)\u001b[0m\u001b[1;33m:\u001b[0m\u001b[1;33m\u001b[0m\u001b[1;33m\u001b[0m\u001b[0m\n\u001b[1;32m----> 3\u001b[1;33m     \u001b[0mdisplay\u001b[0m\u001b[1;33m(\u001b[0m\u001b[0mHTML\u001b[0m\u001b[1;33m(\u001b[0m\u001b[1;34m\"<audio controls><source src={} type='audio/mpeg'></audio>\"\u001b[0m\u001b[1;33m.\u001b[0m\u001b[0mformat\u001b[0m\u001b[1;33m(\u001b[0m\u001b[0mfile_path\u001b[0m\u001b[1;33m)\u001b[0m\u001b[1;33m)\u001b[0m\u001b[1;33m)\u001b[0m\u001b[1;33m\u001b[0m\u001b[1;33m\u001b[0m\u001b[0m\n\u001b[0m",
      "\u001b[1;31mTypeError\u001b[0m: 'module' object is not callable"
     ]
    }
   ],
   "source": [
    "show_audio_with_controls('abstract.mp3')"
   ]
  }
 ],
 "metadata": {
  "kernelspec": {
   "display_name": "Python 3.7.6 64-bit ('env')",
   "metadata": {
    "interpreter": {
     "hash": "6777073c3dd3e149bf810e27acf5f8aa8aec5619c694ff3796b466d626352d52"
    }
   },
   "name": "python3"
  },
  "language_info": {
   "codemirror_mode": {
    "name": "ipython",
    "version": 3
   },
   "file_extension": ".py",
   "mimetype": "text/x-python",
   "name": "python",
   "nbconvert_exporter": "python",
   "pygments_lexer": "ipython3",
   "version": "3.9.1"
  },
  "orig_nbformat": 2
 },
 "nbformat": 4,
 "nbformat_minor": 2
}
